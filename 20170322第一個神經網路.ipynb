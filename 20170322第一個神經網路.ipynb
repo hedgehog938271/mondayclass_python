{
 "cells": [
  {
   "cell_type": "code",
   "execution_count": 1,
   "metadata": {
    "collapsed": false
   },
   "outputs": [],
   "source": [
    "%matplotlib inline\n",
    "import numpy as np\n",
    "import matplotlib.pyplot as plt"
   ]
  },
  {
   "cell_type": "code",
   "execution_count": 2,
   "metadata": {
    "collapsed": false
   },
   "outputs": [
    {
     "name": "stderr",
     "output_type": "stream",
     "text": [
      "Using TensorFlow backend.\n"
     ]
    }
   ],
   "source": [
    "from keras.datasets import mnist"
   ]
  },
  {
   "cell_type": "code",
   "execution_count": 3,
   "metadata": {
    "collapsed": false
   },
   "outputs": [],
   "source": [
    "(x0_train, y0_train), (x0_test, y0_test) = mnist.load_data()"
   ]
  },
  {
   "cell_type": "code",
   "execution_count": 4,
   "metadata": {
    "collapsed": true
   },
   "outputs": [],
   "source": [
    "x_train = x0_train.reshape(60000, 28*28)\n",
    "x_test = x0_test.reshape(10000, 28*28)"
   ]
  },
  {
   "cell_type": "code",
   "execution_count": 5,
   "metadata": {
    "collapsed": true
   },
   "outputs": [],
   "source": [
    "from keras.utils import np_utils"
   ]
  },
  {
   "cell_type": "code",
   "execution_count": 6,
   "metadata": {
    "collapsed": true
   },
   "outputs": [],
   "source": [
    "y_train = np_utils.to_categorical(y0_train,10)"
   ]
  },
  {
   "cell_type": "code",
   "execution_count": 7,
   "metadata": {
    "collapsed": true
   },
   "outputs": [],
   "source": [
    "y_test = np_utils.to_categorical(y0_test,10)"
   ]
  },
  {
   "cell_type": "code",
   "execution_count": 8,
   "metadata": {
    "collapsed": true
   },
   "outputs": [],
   "source": [
    "from keras.models import Sequential\n",
    "from keras.layers import Dense, Activation\n",
    "from keras.optimizers import SGD"
   ]
  },
  {
   "cell_type": "code",
   "execution_count": 9,
   "metadata": {
    "collapsed": true
   },
   "outputs": [],
   "source": [
    "model = Sequential()"
   ]
  },
  {
   "cell_type": "code",
   "execution_count": 28,
   "metadata": {
    "collapsed": false
   },
   "outputs": [],
   "source": [
    "model.add(Dense(input_dim=784, output_dim=500))\n",
    "model.add(Activation('relu'))"
   ]
  },
  {
   "cell_type": "code",
   "execution_count": 29,
   "metadata": {
    "collapsed": false
   },
   "outputs": [],
   "source": [
    "model.add(Dense(output_dim=500))\n",
    "model.add(Activation('relu'))"
   ]
  },
  {
   "cell_type": "code",
   "execution_count": 30,
   "metadata": {
    "collapsed": true
   },
   "outputs": [],
   "source": [
    "model.add(Dense(output_dim=10))\n",
    "model.add(Activation('softmax'))"
   ]
  },
  {
   "cell_type": "code",
   "execution_count": 31,
   "metadata": {
    "collapsed": true
   },
   "outputs": [],
   "source": [
    "model.compile(loss='mse', optimizer=SGD(lr=0.1), metrics=['accuracy'])"
   ]
  },
  {
   "cell_type": "code",
   "execution_count": 32,
   "metadata": {
    "collapsed": false
   },
   "outputs": [
    {
     "name": "stdout",
     "output_type": "stream",
     "text": [
      "Epoch 1/20\n",
      "60000/60000 [==============================] - 69s - loss: 0.0900 - acc: 0.1059    \n",
      "Epoch 2/20\n",
      "60000/60000 [==============================] - 43s - loss: 0.0900 - acc: 0.1124    \n",
      "Epoch 3/20\n",
      "60000/60000 [==============================] - 78s - loss: 0.0900 - acc: 0.1124    \n",
      "Epoch 4/20\n",
      "60000/60000 [==============================] - 81s - loss: 0.0900 - acc: 0.1124    \n",
      "Epoch 5/20\n",
      "60000/60000 [==============================] - 35s - loss: 0.0900 - acc: 0.1124    \n",
      "Epoch 6/20\n",
      "60000/60000 [==============================] - 46s - loss: 0.0900 - acc: 0.1124    \n",
      "Epoch 7/20\n",
      "60000/60000 [==============================] - 58s - loss: 0.0900 - acc: 0.1124    \n",
      "Epoch 8/20\n",
      "60000/60000 [==============================] - 79s - loss: 0.0900 - acc: 0.1124    \n",
      "Epoch 9/20\n",
      "60000/60000 [==============================] - 80s - loss: 0.0900 - acc: 0.1124    \n",
      "Epoch 10/20\n",
      "60000/60000 [==============================] - 78s - loss: 0.0900 - acc: 0.1124    \n",
      "Epoch 11/20\n",
      "60000/60000 [==============================] - 36s - loss: 0.0900 - acc: 0.1124    \n",
      "Epoch 12/20\n",
      "60000/60000 [==============================] - 73s - loss: 0.0900 - acc: 0.1124    \n",
      "Epoch 13/20\n",
      "60000/60000 [==============================] - 80s - loss: 0.0900 - acc: 0.1124    \n",
      "Epoch 14/20\n",
      "60000/60000 [==============================] - 81s - loss: 0.0900 - acc: 0.1124    \n",
      "Epoch 15/20\n",
      "60000/60000 [==============================] - 80s - loss: 0.0900 - acc: 0.1124    \n",
      "Epoch 16/20\n",
      "60000/60000 [==============================] - 56s - loss: 0.0900 - acc: 0.1124    \n",
      "Epoch 17/20\n",
      "60000/60000 [==============================] - 35s - loss: 0.0900 - acc: 0.1124    \n",
      "Epoch 18/20\n",
      "60000/60000 [==============================] - 44s - loss: 0.0900 - acc: 0.1124    \n",
      "Epoch 19/20\n",
      "60000/60000 [==============================] - 111s - loss: 0.0900 - acc: 0.1124   \n",
      "Epoch 20/20\n",
      "60000/60000 [==============================] - 89s - loss: 0.0900 - acc: 0.1124    \n"
     ]
    },
    {
     "data": {
      "text/plain": [
       "<keras.callbacks.History at 0x1743efd0>"
      ]
     },
     "execution_count": 32,
     "metadata": {},
     "output_type": "execute_result"
    }
   ],
   "source": [
    "model.fit(x_train, y_train,batch_size=100,nb_epoch=20)"
   ]
  },
  {
   "cell_type": "code",
   "execution_count": 33,
   "metadata": {
    "collapsed": true
   },
   "outputs": [],
   "source": [
    "from ipywidgets import interact_manual"
   ]
  },
  {
   "cell_type": "code",
   "execution_count": 34,
   "metadata": {
    "collapsed": false
   },
   "outputs": [
    {
     "name": "stdout",
     "output_type": "stream",
     "text": [
      "10000/10000 [==============================] - 8s     \n"
     ]
    }
   ],
   "source": [
    "result = model.predict_classes(x_test)"
   ]
  },
  {
   "cell_type": "code",
   "execution_count": 35,
   "metadata": {
    "collapsed": true
   },
   "outputs": [],
   "source": [
    "def 辨識(測試編號):\n",
    "    plt.imshow(x0_test[測試編號], cmap=\"Greys\")\n",
    "    print(\"神經網路判斷為:\", result[測試編號])"
   ]
  },
  {
   "cell_type": "code",
   "execution_count": 36,
   "metadata": {
    "collapsed": false
   },
   "outputs": [
    {
     "name": "stdout",
     "output_type": "stream",
     "text": [
      "神經網路判斷為: 1\n"
     ]
    },
    {
     "data": {
      "image/png": "[encoded data removed]",
      "text/plain": [
       "<matplotlib.figure.Figure at 0x16c4e5c0>"
      ]
     },
     "metadata": {},
     "output_type": "display_data"
    }
   ],
   "source": [
    "interact_manual(辨識, 測試編號 = (0, 9999));"
   ]
  },
  {
   "cell_type": "code",
   "execution_count": 37,
   "metadata": {
    "collapsed": true
   },
   "outputs": [],
   "source": [
    "model_json = model.to_json()\n",
    "open('handwriting_model_architecture.json', 'w').write(model_json)\n",
    "model.save_weights('handwriting_model_weights.h5')"
   ]
  },
  {
   "cell_type": "code",
   "execution_count": null,
   "metadata": {
    "collapsed": true
   },
   "outputs": [],
   "source": []
  }
 ],
 "metadata": {
  "kernelspec": {
   "display_name": "Python 3",
   "language": "python",
   "name": "python3"
  },
  "language_info": {
   "codemirror_mode": {
    "name": "ipython",
    "version": 3
   },
   "file_extension": ".py",
   "mimetype": "text/x-python",
   "name": "python",
   "nbconvert_exporter": "python",
   "pygments_lexer": "ipython3",
   "version": "3.5.2"
  }
 },
 "nbformat": 4,
 "nbformat_minor": 0
}
